{
  "nbformat": 4,
  "nbformat_minor": 0,
  "metadata": {
    "colab": {
      "name": "PIAIC125459_Muhammad Fazeel_Assignment#1.ipynb",
      "provenance": [],
      "collapsed_sections": []
    },
    "kernelspec": {
      "name": "python3",
      "display_name": "Python 3"
    }
  },
  "cells": [
    {
      "cell_type": "markdown",
      "metadata": {
        "id": "3E78--xUnVdi"
      },
      "source": [
        "#**Assignment No 1**\r\n",
        "\r\n"
      ]
    },
    {
      "cell_type": "markdown",
      "metadata": {
        "id": "2PeSzrVrnFMA"
      },
      "source": [
        "Assignment made by PIAIC125459_Muhammad Fazeel"
      ]
    },
    {
      "cell_type": "markdown",
      "metadata": {
        "id": "2l2YxTVWlUCJ"
      },
      "source": [
        "**Importing and getting things ready:**"
      ]
    },
    {
      "cell_type": "code",
      "metadata": {
        "id": "OzNxP7jan35H"
      },
      "source": [
        "import numpy as np\r\n",
        "list = [1,2,3,4]"
      ],
      "execution_count": 2,
      "outputs": []
    },
    {
      "cell_type": "markdown",
      "metadata": {
        "id": "U6Kq-eqGoHq5"
      },
      "source": [
        "# Writing Functions"
      ]
    },
    {
      "cell_type": "code",
      "metadata": {
        "colab": {
          "base_uri": "https://localhost:8080/"
        },
        "id": "8otyBMiEoGRO",
        "outputId": "b7818953-159d-4e23-ce91-f3b10f703a27"
      },
      "source": [
        "a = np.array(list) #Used to write a new array or to convert list to array\r\n",
        "b = np.zeros((2,2))\r\n",
        "c = np.ones((2,2))\r\n",
        "a = np.reshape(a,(2,2))\r\n",
        "np.add(a,b)\r\n",
        "np.linalg.det(a)\r\n",
        "np.linalg.matrix_rank(a)\r\n",
        "np.amin(a)\r\n",
        "np.amax(a)\r\n",
        "np.byte(a)\r\n",
        "np.linalg.matrix_power(a,2)\r\n",
        "np.linalg.solve(a,b)\r\n",
        "np.linalg.eigvals(a)\r\n",
        "np.common_type(a)\r\n",
        "aa =np.arange(1,100,2,dtype=float)\r\n",
        "bb = np.arctan(aa)\r\n",
        "np.arcsinh(aa)\r\n",
        "np.argsort(aa,-1)\r\n",
        "np.around(bb,decimals=2)\r\n",
        "np.array2string(aa)\r\n",
        "np.linspace(0, 1, 4)\r\n",
        "np.random.normal(5, 3.44, 20)\r\n",
        "np.random.randint(0, 10, 6)\r\n",
        "np.random.permutation(8)\r\n",
        "np.hypot(2,2)\r\n",
        "np.average(aa)\r\n",
        "np.ones_like(aa)\r\n",
        "np.zeros_like(a)\r\n",
        "np.empty_like(a)\r\n",
        "np.empty([2,2])\r\n",
        "np.eye(2,2)\r\n",
        "np.identity(3)\r\n",
        "np.rint(aa)\r\n",
        "np.cumsum(aa)\r\n",
        "np.cumprod(a)\r\n",
        "np.any(a)\r\n",
        "np.all(b)\r\n",
        "np.sort(aa)\r\n",
        "np.unique(b)\r\n",
        "np.diag(a)\r\n",
        "np.trace(a)\r\n",
        "np.linalg.inv(a)\r\n",
        "np.random.seed([2,2])\r\n",
        "np.vstack(a)\r\n",
        "np.hstack(a)\r\n",
        "np.split(a,[1,1])\r\n",
        "np.ravel(1)\r\n",
        "np.append(a,1)\r\n",
        "np.atleast_2d(aa)\r\n",
        "np.atleast_1d(a)\r\n",
        "np.atleast_3d(bb)"
      ],
      "execution_count": 43,
      "outputs": [
        {
          "output_type": "execute_result",
          "data": {
            "text/plain": [
              "array([[[0.78539816],\n",
              "        [1.24904577],\n",
              "        [1.37340077],\n",
              "        [1.42889927],\n",
              "        [1.46013911],\n",
              "        [1.48013644],\n",
              "        [1.49402444],\n",
              "        [1.50422816],\n",
              "        [1.5120405 ],\n",
              "        [1.51821327],\n",
              "        [1.52321322],\n",
              "        [1.52734543],\n",
              "        [1.53081764],\n",
              "        [1.53377621],\n",
              "        [1.53632723],\n",
              "        [1.53854944],\n",
              "        [1.54050257],\n",
              "        [1.54223267],\n",
              "        [1.54377588],\n",
              "        [1.54516092],\n",
              "        [1.54641092],\n",
              "        [1.5475447 ],\n",
              "        [1.54857776],\n",
              "        [1.54952294],\n",
              "        [1.550391  ],\n",
              "        [1.551191  ],\n",
              "        [1.55193064],\n",
              "        [1.55261651],\n",
              "        [1.55325427],\n",
              "        [1.5538488 ],\n",
              "        [1.55440435],\n",
              "        [1.55492464],\n",
              "        [1.55541293],\n",
              "        [1.55587206],\n",
              "        [1.55630459],\n",
              "        [1.55671275],\n",
              "        [1.55709855],\n",
              "        [1.55746378],\n",
              "        [1.55781004],\n",
              "        [1.55813877],\n",
              "        [1.55845127],\n",
              "        [1.55874872],\n",
              "        [1.55903216],\n",
              "        [1.55930258],\n",
              "        [1.55956084],\n",
              "        [1.55980776],\n",
              "        [1.56004405],\n",
              "        [1.5602704 ],\n",
              "        [1.56048741],\n",
              "        [1.56069566]]])"
            ]
          },
          "metadata": {
            "tags": []
          },
          "execution_count": 43
        }
      ]
    }
  ]
}