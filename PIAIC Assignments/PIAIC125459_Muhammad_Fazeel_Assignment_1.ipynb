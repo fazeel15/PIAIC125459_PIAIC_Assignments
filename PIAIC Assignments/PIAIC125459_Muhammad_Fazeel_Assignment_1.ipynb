{
  "nbformat": 4,
  "nbformat_minor": 0,
  "metadata": {
    "colab": {
      "name": "PIAIC125459_Muhammad Fazeel_Assignment#1.ipynb",
      "provenance": [],
      "collapsed_sections": []
    },
    "kernelspec": {
      "name": "python3",
      "display_name": "Python 3"
    }
  },
  "cells": [
    {
      "cell_type": "markdown",
      "metadata": {
        "id": "3E78--xUnVdi"
      },
      "source": [
        "#**Assignment No 1**\r\n",
        "\r\n"
      ]
    },
    {
      "cell_type": "markdown",
      "metadata": {
        "id": "2PeSzrVrnFMA"
      },
      "source": [
        "Assignment by PIAIC125459_Muhammad Fazeel"
      ]
    },
    {
      "cell_type": "markdown",
      "metadata": {
        "id": "2l2YxTVWlUCJ"
      },
      "source": [
        "**Importing and getting things ready:**"
      ]
    },
    {
      "cell_type": "code",
      "metadata": {
        "id": "OzNxP7jan35H"
      },
      "source": [
        "import numpy as np\r\n",
        "list = [1,2,3,4]"
      ],
      "execution_count": 2,
      "outputs": []
    },
    {
      "cell_type": "markdown",
      "metadata": {
        "id": "U6Kq-eqGoHq5"
      },
      "source": [
        "# Writing Functions"
      ]
    },
    {
      "cell_type": "code",
      "metadata": {
        "id": "8otyBMiEoGRO"
      },
      "source": [
        "a = np.array(list) #Used to write a new array or to convert list to array\r\n",
        "b = np.zeros((2,2))\r\n",
        "c = np.ones((2,2))\r\n",
        "a = np.reshape(a,(2,2))\r\n",
        "np.add(a,b)\r\n",
        "np.linalg.det(a)\r\n",
        "np.linalg.matrix_rank(a)\r\n",
        "np.amin(a)\r\n",
        "np.amax(a)\r\n",
        "np.byte(a)\r\n",
        "np.linalg.matrix_power(a,2)\r\n",
        "np.linalg.solve(a,b)\r\n",
        "np.linalg.eigvals(a)\r\n",
        "np.common_type(a)\r\n",
        "aa =np.arange(1,100,2,dtype=float)\r\n",
        "bb = np.arctan(aa)\r\n",
        "np.arcsinh(aa)\r\n",
        "np.argsort(aa,-1)\r\n",
        "np.around(bb,decimals=2)\r\n",
        "np.array2string(aa)\r\n",
        "np.linspace(0, 1, 4)\r\n",
        "np.random.normal(5, 3.44, 20)\r\n",
        "np.random.randint(0, 10, 6)\r\n",
        "np.random.permutation(8)\r\n",
        "np.hypot(2,2)\r\n",
        "np.average(aa)\r\n",
        "np.ones_like(aa)\r\n",
        "np.zeros_like(a)\r\n",
        "np.empty_like(a)\r\n",
        "np.empty([2,2])\r\n",
        "np.eye(2,2)\r\n",
        "np.identity(3)\r\n",
        "np.rint(aa)\r\n",
        "np.cumsum(aa)\r\n",
        "np.cumprod(a)\r\n",
        "np.any(a)\r\n",
        "np.all(b)\r\n",
        "np.sort(aa)\r\n",
        "np.unique(b)\r\n",
        "np.diag(a)\r\n",
        "np.trace(a)\r\n",
        "np.linalg.inv(a)\r\n",
        "np.random.seed([2,2])\r\n",
        "np.vstack(a)\r\n",
        "np.hstack(a)\r\n",
        "np.split(a,[1,1])\r\n",
        "np.ravel(1)\r\n",
        "np.append(a,1)\r\n",
        "np.atleast_2d(aa)\r\n",
        "np.atleast_1d(a)\r\n",
        "np.atleast_3d(bb)"
      ],
      "execution_count": null,
      "outputs": []
    }
  ]
}
